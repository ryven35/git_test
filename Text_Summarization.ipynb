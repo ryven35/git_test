{
  "nbformat": 4,
  "nbformat_minor": 0,
  "metadata": {
    "colab": {
      "provenance": [],
      "authorship_tag": "ABX9TyNqh/0tPuqDDpT3Tysed5Bf",
      "include_colab_link": true
    },
    "kernelspec": {
      "name": "python3",
      "display_name": "Python 3"
    },
    "language_info": {
      "name": "python"
    }
  },
  "cells": [
    {
      "cell_type": "markdown",
      "metadata": {
        "id": "view-in-github",
        "colab_type": "text"
      },
      "source": [
        "<a href=\"https://colab.research.google.com/github/ryven35/git_test/blob/main/Text_Summarization.ipynb\" target=\"_parent\"><img src=\"https://colab.research.google.com/assets/colab-badge.svg\" alt=\"Open In Colab\"/></a>"
      ]
    },
    {
      "cell_type": "code",
      "source": [
        "import spacy\n",
        "from spacy.lang.en.stop_words import STOP_WORDS\n",
        "from string import punctuation"
      ],
      "metadata": {
        "id": "pI13joagLqYu"
      },
      "execution_count": null,
      "outputs": []
    },
    {
      "cell_type": "code",
      "source": [
        "stopwords = list(STOP_WORDS)"
      ],
      "metadata": {
        "id": "FmaoXAhcMMEw"
      },
      "execution_count": null,
      "outputs": []
    },
    {
      "cell_type": "code",
      "source": [
        "document1 ='Machine learning (ML) is the scientific study of algorithms and statistical models that computer systems use to progressively improve their performance on a specific task. Machine learning algorithms build a mathematical model of sample data, known as “training data”, in order to make predictions or decisions without being explicitly programmed to perform the task. Machine learning algorithms are used in the applications of email filtering, detection of network intruders, and computer vision, where it is infeasible to develop an algorithm of specific instructions for performing the task. Machine learning is closely related to computational statistics, which focuses on making predictions using computers. The study of mathematical optimization delivers methods, theory and application domains to the field of machine learning. Data mining is a field of study within machine learning, and focuses on exploratory data analysis through unsupervised learning.In its application across business problems, machine learning is also referred to as predictive analytics.'\n",
        "\n",
        "document2 ='Our Father who art in heaven, hallowed be thy name. Thy kingdom come. Thy will be done, on earth as it is in heaven. Give us this day our daily bread; and forgive us our trespasses, as we forgive those who trespass against us; and lead us not into temptation, but deliver us from evil'\n"
      ],
      "metadata": {
        "id": "wCQA_xGyMPTi"
      },
      "execution_count": null,
      "outputs": []
    },
    {
      "cell_type": "code",
      "source": [
        "nlp = spacy.load('en_core_web_sm')"
      ],
      "metadata": {
        "id": "29n1L7EcMgc4"
      },
      "execution_count": null,
      "outputs": []
    },
    {
      "cell_type": "code",
      "source": [
        "docx = nlp(document1)"
      ],
      "metadata": {
        "id": "6JUBO4GrNCmJ"
      },
      "execution_count": null,
      "outputs": []
    },
    {
      "cell_type": "code",
      "source": [
        "mytokens = [token.text for token in docx]"
      ],
      "metadata": {
        "id": "2FEcly33Mzof"
      },
      "execution_count": null,
      "outputs": []
    },
    {
      "cell_type": "code",
      "source": [
        "word_frequencies = {}\n",
        "for word in docx:\n",
        "  if word.text not in stopwords:\n",
        "    if word.text not in word_frequencies.keys():\n",
        "      word_frequencies[word.text] = 1\n",
        "    else:\n",
        "      word_frequencies[word.text] += 1\n",
        "word_frequencies"
      ],
      "metadata": {
        "colab": {
          "base_uri": "https://localhost:8080/"
        },
        "id": "2qW9zQ_gM-9j",
        "outputId": "acf1588c-6106-4bde-f444-50dabe9c0c73"
      },
      "execution_count": null,
      "outputs": [
        {
          "output_type": "execute_result",
          "data": {
            "text/plain": [
              "{'Machine': 4,\n",
              " 'learning': 8,\n",
              " '(': 1,\n",
              " 'ML': 1,\n",
              " ')': 1,\n",
              " 'scientific': 1,\n",
              " 'study': 3,\n",
              " 'algorithms': 3,\n",
              " 'statistical': 1,\n",
              " 'models': 1,\n",
              " 'computer': 2,\n",
              " 'systems': 1,\n",
              " 'use': 1,\n",
              " 'progressively': 1,\n",
              " 'improve': 1,\n",
              " 'performance': 1,\n",
              " 'specific': 2,\n",
              " 'task': 3,\n",
              " '.': 7,\n",
              " 'build': 1,\n",
              " 'mathematical': 2,\n",
              " 'model': 1,\n",
              " 'sample': 1,\n",
              " 'data': 3,\n",
              " ',': 9,\n",
              " 'known': 1,\n",
              " '“': 1,\n",
              " 'training': 1,\n",
              " '”': 1,\n",
              " 'order': 1,\n",
              " 'predictions': 2,\n",
              " 'decisions': 1,\n",
              " 'explicitly': 1,\n",
              " 'programmed': 1,\n",
              " 'perform': 1,\n",
              " 'applications': 1,\n",
              " 'email': 1,\n",
              " 'filtering': 1,\n",
              " 'detection': 1,\n",
              " 'network': 1,\n",
              " 'intruders': 1,\n",
              " 'vision': 1,\n",
              " 'infeasible': 1,\n",
              " 'develop': 1,\n",
              " 'algorithm': 1,\n",
              " 'instructions': 1,\n",
              " 'performing': 1,\n",
              " 'closely': 1,\n",
              " 'related': 1,\n",
              " 'computational': 1,\n",
              " 'statistics': 1,\n",
              " 'focuses': 2,\n",
              " 'making': 1,\n",
              " 'computers': 1,\n",
              " 'The': 1,\n",
              " 'optimization': 1,\n",
              " 'delivers': 1,\n",
              " 'methods': 1,\n",
              " 'theory': 1,\n",
              " 'application': 2,\n",
              " 'domains': 1,\n",
              " 'field': 2,\n",
              " 'machine': 3,\n",
              " 'Data': 1,\n",
              " 'mining': 1,\n",
              " 'exploratory': 1,\n",
              " 'analysis': 1,\n",
              " 'unsupervised': 1,\n",
              " 'In': 1,\n",
              " 'business': 1,\n",
              " 'problems': 1,\n",
              " 'referred': 1,\n",
              " 'predictive': 1,\n",
              " 'analytics': 1}"
            ]
          },
          "metadata": {},
          "execution_count": 11
        }
      ]
    },
    {
      "cell_type": "code",
      "source": [
        "maximum_frequency = max(word_frequencies.values())\n",
        "for word in word_frequencies.keys():\n",
        "  word_frequencies[word] = (word_frequencies[word]/maximum_frequency)"
      ],
      "metadata": {
        "id": "QyzB6Eo1NHd_"
      },
      "execution_count": null,
      "outputs": []
    },
    {
      "cell_type": "code",
      "source": [
        "word_frequencies"
      ],
      "metadata": {
        "colab": {
          "base_uri": "https://localhost:8080/"
        },
        "id": "rtO9U-z5NW5n",
        "outputId": "94201c9c-0105-4516-8b6d-bdc201550f77"
      },
      "execution_count": null,
      "outputs": [
        {
          "output_type": "execute_result",
          "data": {
            "text/plain": [
              "{'Machine': 0.4444444444444444,\n",
              " 'learning': 0.8888888888888888,\n",
              " '(': 0.1111111111111111,\n",
              " 'ML': 0.1111111111111111,\n",
              " ')': 0.1111111111111111,\n",
              " 'scientific': 0.1111111111111111,\n",
              " 'study': 0.3333333333333333,\n",
              " 'algorithms': 0.3333333333333333,\n",
              " 'statistical': 0.1111111111111111,\n",
              " 'models': 0.1111111111111111,\n",
              " 'computer': 0.2222222222222222,\n",
              " 'systems': 0.1111111111111111,\n",
              " 'use': 0.1111111111111111,\n",
              " 'progressively': 0.1111111111111111,\n",
              " 'improve': 0.1111111111111111,\n",
              " 'performance': 0.1111111111111111,\n",
              " 'specific': 0.2222222222222222,\n",
              " 'task': 0.3333333333333333,\n",
              " '.': 0.7777777777777778,\n",
              " 'build': 0.1111111111111111,\n",
              " 'mathematical': 0.2222222222222222,\n",
              " 'model': 0.1111111111111111,\n",
              " 'sample': 0.1111111111111111,\n",
              " 'data': 0.3333333333333333,\n",
              " ',': 1.0,\n",
              " 'known': 0.1111111111111111,\n",
              " '“': 0.1111111111111111,\n",
              " 'training': 0.1111111111111111,\n",
              " '”': 0.1111111111111111,\n",
              " 'order': 0.1111111111111111,\n",
              " 'predictions': 0.2222222222222222,\n",
              " 'decisions': 0.1111111111111111,\n",
              " 'explicitly': 0.1111111111111111,\n",
              " 'programmed': 0.1111111111111111,\n",
              " 'perform': 0.1111111111111111,\n",
              " 'applications': 0.1111111111111111,\n",
              " 'email': 0.1111111111111111,\n",
              " 'filtering': 0.1111111111111111,\n",
              " 'detection': 0.1111111111111111,\n",
              " 'network': 0.1111111111111111,\n",
              " 'intruders': 0.1111111111111111,\n",
              " 'vision': 0.1111111111111111,\n",
              " 'infeasible': 0.1111111111111111,\n",
              " 'develop': 0.1111111111111111,\n",
              " 'algorithm': 0.1111111111111111,\n",
              " 'instructions': 0.1111111111111111,\n",
              " 'performing': 0.1111111111111111,\n",
              " 'closely': 0.1111111111111111,\n",
              " 'related': 0.1111111111111111,\n",
              " 'computational': 0.1111111111111111,\n",
              " 'statistics': 0.1111111111111111,\n",
              " 'focuses': 0.2222222222222222,\n",
              " 'making': 0.1111111111111111,\n",
              " 'computers': 0.1111111111111111,\n",
              " 'The': 0.1111111111111111,\n",
              " 'optimization': 0.1111111111111111,\n",
              " 'delivers': 0.1111111111111111,\n",
              " 'methods': 0.1111111111111111,\n",
              " 'theory': 0.1111111111111111,\n",
              " 'application': 0.2222222222222222,\n",
              " 'domains': 0.1111111111111111,\n",
              " 'field': 0.2222222222222222,\n",
              " 'machine': 0.3333333333333333,\n",
              " 'Data': 0.1111111111111111,\n",
              " 'mining': 0.1111111111111111,\n",
              " 'exploratory': 0.1111111111111111,\n",
              " 'analysis': 0.1111111111111111,\n",
              " 'unsupervised': 0.1111111111111111,\n",
              " 'In': 0.1111111111111111,\n",
              " 'business': 0.1111111111111111,\n",
              " 'problems': 0.1111111111111111,\n",
              " 'referred': 0.1111111111111111,\n",
              " 'predictive': 0.1111111111111111,\n",
              " 'analytics': 0.1111111111111111}"
            ]
          },
          "metadata": {},
          "execution_count": 14
        }
      ]
    },
    {
      "cell_type": "code",
      "source": [
        "#Sentence Score"
      ],
      "metadata": {
        "id": "qPNDYHr_Neyg"
      },
      "execution_count": null,
      "outputs": []
    },
    {
      "cell_type": "code",
      "source": [
        "sentence_list = [ sentence for sentence in docx.sents ]"
      ],
      "metadata": {
        "id": "6nmGxqHzNurc"
      },
      "execution_count": null,
      "outputs": []
    },
    {
      "cell_type": "code",
      "source": [
        "sentence_scores = {}\n",
        "for sent in sentence_list:\n",
        "  for word in sent:\n",
        "    if word.text.lower() in word_frequencies.keys():\n",
        "      if len(sent.text.split(',')) < 30:\n",
        "        if sent not in sentence_scores.keys():\n",
        "          sentence_scores[sent] = word_frequencies[word.text.lower()]\n",
        "        else:\n",
        "          sentence_scores[sent] += word_frequencies[word.text.lower()]"
      ],
      "metadata": {
        "id": "fB8RmhmHNyCr"
      },
      "execution_count": null,
      "outputs": []
    },
    {
      "cell_type": "code",
      "source": [
        "sentence_scores"
      ],
      "metadata": {
        "colab": {
          "base_uri": "https://localhost:8080/"
        },
        "id": "jo1BNmQxOCHM",
        "outputId": "929eef3a-41db-4f7e-87a0-777a313e46ec"
      },
      "execution_count": null,
      "outputs": [
        {
          "output_type": "execute_result",
          "data": {
            "text/plain": [
              "{Machine learning (ML) is the scientific study of algorithms and statistical models that computer systems use to progressively improve their performance on a specific task.: 4.555555555555556,\n",
              " Machine learning algorithms build a mathematical model of sample data, known as “training data”, in order to make predictions or decisions without being explicitly programmed to perform the task.: 7.111111111111109,\n",
              " Machine learning algorithms are used in the applications of email filtering, detection of network intruders, and computer vision, where it is infeasible to develop an algorithm of specific instructions for performing the task.: 7.444444444444442,\n",
              " Machine learning is closely related to computational statistics, which focuses on making predictions using computers.: 4.111111111111112,\n",
              " The study of mathematical optimization delivers methods, theory and application domains to the field of machine learning.: 4.555555555555556,\n",
              " Data mining is a field of study within machine learning, and focuses on exploratory data analysis through unsupervised learning.: 5.777777777777778,\n",
              " In its application across business problems, machine learning is also referred to as predictive analytics.: 3.7777777777777777}"
            ]
          },
          "metadata": {},
          "execution_count": 20
        }
      ]
    },
    {
      "cell_type": "code",
      "source": [
        "from heapq import nlargest"
      ],
      "metadata": {
        "id": "4uT9cKwOOOuM"
      },
      "execution_count": null,
      "outputs": []
    },
    {
      "cell_type": "code",
      "source": [
        "sum_sentences = nlargest(10, sentence_scores, key=sentence_scores.get)\n",
        "sum_sentences"
      ],
      "metadata": {
        "colab": {
          "base_uri": "https://localhost:8080/"
        },
        "id": "qbIIxoLXP6f2",
        "outputId": "9e87adbb-1dd0-4cf6-becc-00962a77ba8b"
      },
      "execution_count": null,
      "outputs": [
        {
          "output_type": "execute_result",
          "data": {
            "text/plain": [
              "[Machine learning algorithms are used in the applications of email filtering, detection of network intruders, and computer vision, where it is infeasible to develop an algorithm of specific instructions for performing the task.,\n",
              " Machine learning algorithms build a mathematical model of sample data, known as “training data”, in order to make predictions or decisions without being explicitly programmed to perform the task.,\n",
              " Data mining is a field of study within machine learning, and focuses on exploratory data analysis through unsupervised learning.,\n",
              " Machine learning (ML) is the scientific study of algorithms and statistical models that computer systems use to progressively improve their performance on a specific task.,\n",
              " The study of mathematical optimization delivers methods, theory and application domains to the field of machine learning.,\n",
              " Machine learning is closely related to computational statistics, which focuses on making predictions using computers.,\n",
              " In its application across business problems, machine learning is also referred to as predictive analytics.]"
            ]
          },
          "metadata": {},
          "execution_count": 32
        }
      ]
    },
    {
      "cell_type": "code",
      "source": [
        "for w in sum_sentences:\n",
        " print(w.text)"
      ],
      "metadata": {
        "colab": {
          "base_uri": "https://localhost:8080/"
        },
        "id": "Spg3F9l_QFKr",
        "outputId": "ae33ea62-849b-41fb-a5ad-29fb39d14f95"
      },
      "execution_count": null,
      "outputs": [
        {
          "output_type": "stream",
          "name": "stdout",
          "text": [
            "Machine learning algorithms are used in the applications of email filtering, detection of network intruders, and computer vision, where it is infeasible to develop an algorithm of specific instructions for performing the task.\n",
            "Machine learning algorithms build a mathematical model of sample data, known as “training data”, in order to make predictions or decisions without being explicitly programmed to perform the task.\n",
            "Data mining is a field of study within machine learning, and focuses on exploratory data analysis through unsupervised learning.\n",
            "Machine learning (ML) is the scientific study of algorithms and statistical models that computer systems use to progressively improve their performance on a specific task.\n",
            "The study of mathematical optimization delivers methods, theory and application domains to the field of machine learning.\n",
            "Machine learning is closely related to computational statistics, which focuses on making predictions using computers.\n",
            "In its application across business problems, machine learning is also referred to as predictive analytics.\n"
          ]
        }
      ]
    },
    {
      "cell_type": "code",
      "source": [
        "final_sentences = [ w.text for w in sum_sentences]\n",
        "final_sentences"
      ],
      "metadata": {
        "colab": {
          "base_uri": "https://localhost:8080/"
        },
        "id": "F5Y93JGAQJx3",
        "outputId": "5f6d30c6-fac0-480a-fff3-41ed0029a262"
      },
      "execution_count": null,
      "outputs": [
        {
          "output_type": "execute_result",
          "data": {
            "text/plain": [
              "['Machine learning algorithms are used in the applications of email filtering, detection of network intruders, and computer vision, where it is infeasible to develop an algorithm of specific instructions for performing the task.',\n",
              " 'Machine learning algorithms build a mathematical model of sample data, known as “training data”, in order to make predictions or decisions without being explicitly programmed to perform the task.',\n",
              " 'Data mining is a field of study within machine learning, and focuses on exploratory data analysis through unsupervised learning.',\n",
              " 'Machine learning (ML) is the scientific study of algorithms and statistical models that computer systems use to progressively improve their performance on a specific task.',\n",
              " 'The study of mathematical optimization delivers methods, theory and application domains to the field of machine learning.',\n",
              " 'Machine learning is closely related to computational statistics, which focuses on making predictions using computers.',\n",
              " 'In its application across business problems, machine learning is also referred to as predictive analytics.']"
            ]
          },
          "metadata": {},
          "execution_count": 34
        }
      ]
    },
    {
      "cell_type": "code",
      "source": [
        "summary = ' '.join(final_sentences)\n",
        "summary\n"
      ],
      "metadata": {
        "colab": {
          "base_uri": "https://localhost:8080/",
          "height": 128
        },
        "id": "2mPX3_YlQNbz",
        "outputId": "c6909541-d35b-4361-deaa-86056f7c5b9f"
      },
      "execution_count": null,
      "outputs": [
        {
          "output_type": "execute_result",
          "data": {
            "text/plain": [
              "'Machine learning algorithms are used in the applications of email filtering, detection of network intruders, and computer vision, where it is infeasible to develop an algorithm of specific instructions for performing the task. Machine learning algorithms build a mathematical model of sample data, known as “training data”, in order to make predictions or decisions without being explicitly programmed to perform the task. Data mining is a field of study within machine learning, and focuses on exploratory data analysis through unsupervised learning. Machine learning (ML) is the scientific study of algorithms and statistical models that computer systems use to progressively improve their performance on a specific task. The study of mathematical optimization delivers methods, theory and application domains to the field of machine learning. Machine learning is closely related to computational statistics, which focuses on making predictions using computers. In its application across business problems, machine learning is also referred to as predictive analytics.'"
            ],
            "application/vnd.google.colaboratory.intrinsic+json": {
              "type": "string"
            }
          },
          "metadata": {},
          "execution_count": 35
        }
      ]
    },
    {
      "cell_type": "code",
      "source": [
        "len(summary)"
      ],
      "metadata": {
        "colab": {
          "base_uri": "https://localhost:8080/"
        },
        "id": "LvC2iaP4QRiU",
        "outputId": "06a4f096-d1f8-4bfd-f0fb-ed24a3521fc6"
      },
      "execution_count": null,
      "outputs": [
        {
          "output_type": "execute_result",
          "data": {
            "text/plain": [
              "1070"
            ]
          },
          "metadata": {},
          "execution_count": 40
        }
      ]
    },
    {
      "cell_type": "code",
      "source": [
        "len(document1)"
      ],
      "metadata": {
        "colab": {
          "base_uri": "https://localhost:8080/"
        },
        "id": "s79qHi8aQV_f",
        "outputId": "8f655895-f4ec-488c-ecf1-e3837ff6507a"
      },
      "execution_count": null,
      "outputs": [
        {
          "output_type": "execute_result",
          "data": {
            "text/plain": [
              "1069"
            ]
          },
          "metadata": {},
          "execution_count": 39
        }
      ]
    },
    {
      "cell_type": "code",
      "source": [],
      "metadata": {
        "id": "LE_Yq8SaQcbE"
      },
      "execution_count": null,
      "outputs": []
    }
  ]
}